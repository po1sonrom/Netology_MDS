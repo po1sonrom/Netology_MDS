{
 "cells": [
  {
   "cell_type": "markdown",
   "metadata": {},
   "source": [
    "## Уровень 0"
   ]
  },
  {
   "cell_type": "markdown",
   "metadata": {},
   "source": [
    "посчитайте значение 1-ой и 2-ой производной фунции  \n",
    "f(x) = x^5 + 4sin(2x) + cos(3x+3) в точке x = 1"
   ]
  },
  {
   "cell_type": "code",
   "execution_count": 1,
   "metadata": {},
   "outputs": [],
   "source": [
    "import numpy as np"
   ]
  },
  {
   "cell_type": "code",
   "execution_count": 23,
   "metadata": {},
   "outputs": [
    {
     "name": "stdout",
     "output_type": "stream",
     "text": [
      "Первая производная: 2.5090718022196383\n",
      "Вторая производная: -23.1902914090642\n"
     ]
    }
   ],
   "source": [
    "def first_d(x):\n",
    "    return (5 + 4 * 2 * np.cos(2 * x) + 3 * -np.sin(3 * x + 3))\n",
    "\n",
    "def second_d(x):\n",
    "    return (-16 * np.sin(2 * x) + 9 * -np.cos(3 * x + 3))\n",
    "\n",
    "print(f'Первая производная: {first_d(1)}')\n",
    "print(f'Вторая производная: {second_d(1)}')"
   ]
  }
 ],
 "metadata": {
  "kernelspec": {
   "display_name": "Python 3",
   "language": "python",
   "name": "python3"
  },
  "language_info": {
   "codemirror_mode": {
    "name": "ipython",
    "version": 3
   },
   "file_extension": ".py",
   "mimetype": "text/x-python",
   "name": "python",
   "nbconvert_exporter": "python",
   "pygments_lexer": "ipython3",
   "version": "3.7.4"
  }
 },
 "nbformat": 4,
 "nbformat_minor": 2
}
