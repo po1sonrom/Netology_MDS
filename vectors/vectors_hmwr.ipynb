{
 "cells": [
  {
   "cell_type": "markdown",
   "metadata": {},
   "source": [
    "## Уровень 0:"
   ]
  },
  {
   "cell_type": "markdown",
   "metadata": {},
   "source": [
    "Даны вектора x=(1,1), y=(2, 0) и z = (0,2)\n",
    "\n",
    "Надо:\n",
    "\n",
    "Изобразить вектора на экране\n",
    "\n",
    "Изобразить точку x + y + z\n",
    "\n",
    "Найти угол между векторами x и y"
   ]
  },
  {
   "cell_type": "markdown",
   "metadata": {},
   "source": [
    "**Решение**"
   ]
  },
  {
   "cell_type": "code",
   "execution_count": 35,
   "metadata": {},
   "outputs": [],
   "source": [
    "import numpy as np\n",
    "import matplotlib.pyplot as plt\n",
    "import pandas as pd"
   ]
  },
  {
   "cell_type": "code",
   "execution_count": 23,
   "metadata": {},
   "outputs": [],
   "source": [
    "x = np.array([1, 1])\n",
    "y = np.array([2, 0])\n",
    "z = np.array([0, 2])\n",
    "point = x + y + z"
   ]
  },
  {
   "cell_type": "code",
   "execution_count": 24,
   "metadata": {},
   "outputs": [
    {
     "data": {
      "image/png": "[encoded data removed]",
      "text/plain": [
       "<Figure size 432x288 with 1 Axes>"
      ]
     },
     "metadata": {
      "needs_background": "light"
     },
     "output_type": "display_data"
    }
   ],
   "source": [
    "plt.figure()\n",
    "plt.plot(x[0], x[1], 'o', color='r')\n",
    "plt.plot(y[0], y[1], 'o', color='g')\n",
    "plt.plot(z[0], z[1], 'o', color='y')\n",
    "plt.plot(point[0], point[1], 'o', color='b')\n",
    "plt.grid()"
   ]
  },
  {
   "cell_type": "code",
   "execution_count": 34,
   "metadata": {},
   "outputs": [
    {
     "data": {
      "text/plain": [
       "45.0"
      ]
     },
     "execution_count": 34,
     "metadata": {},
     "output_type": "execute_result"
    }
   ],
   "source": [
    "x_len = np.linalg.norm(x) #длина вектора x\n",
    "y_len = np.linalg.norm(y) #длина вектора y\n",
    "\n",
    "cos_angle = np.dot(x, y) / (x_len * y_len) #cos угла между векторами x и y\n",
    "radian_angle = np.arccos(cosangle) #угол в радианах между x и y\n",
    "\n",
    "angle = round((radian_angle * 180 / np.pi), 2) #переводи в градусы\n",
    "angle"
   ]
  },
  {
   "cell_type": "markdown",
   "metadata": {},
   "source": [
    "## Уровень 1:"
   ]
  },
  {
   "cell_type": "markdown",
   "metadata": {},
   "source": [
    "Даны дома из Бостона\n",
    "\n",
    "Выбрать любые n домов, образующих базис в пространстве признаков дома (все колонки, кроме medv)\n",
    "\n",
    "Написать код разложения дома по указанному базису"
   ]
  },
  {
   "cell_type": "markdown",
   "metadata": {},
   "source": [
    "**Решение**"
   ]
  },
  {
   "cell_type": "code",
   "execution_count": 163,
   "metadata": {},
   "outputs": [
    {
     "data": {
      "text/plain": [
       "235    False\n",
       "Name: medv, dtype: bool"
      ]
     },
     "execution_count": 163,
     "metadata": {},
     "output_type": "execute_result"
    }
   ],
   "source": [
    "houses = pd.read_csv('boston_data.csv')\n",
    "#test.info() #проверка на формат данных\n",
    "\n",
    "test_houses = houses[28:41] #произвольные дома в пространстве\n",
    "tst_house = houses[235:236] #берем произвольный дом\n",
    "\n",
    "train_labels = test_houses['medv'] #получение показателей по столбцу\n",
    "test_labels = tst_house['medv'] #получение показателя по столбцу\n",
    "\n",
    "del test_houses['medv'] #удаление столбца из произвольной таблицы\n",
    "del tst_house['medv'] #удаление столбца из произвольного ряда\n",
    "\n",
    "result = np.linalg.solve(test_houses.to_numpy(), train_labels.to_numpy()) #получение инверсии\n",
    "\n",
    "y_pred = (result * tst_house).to_numpy().sum()\n",
    "y_pred == test_labels"
   ]
  }
 ],
 "metadata": {
  "kernelspec": {
   "display_name": "Python 3",
   "language": "python",
   "name": "python3"
  },
  "language_info": {
   "codemirror_mode": {
    "name": "ipython",
    "version": 3
   },
   "file_extension": ".py",
   "mimetype": "text/x-python",
   "name": "python",
   "nbconvert_exporter": "python",
   "pygments_lexer": "ipython3",
   "version": "3.7.4"
  }
 },
 "nbformat": 4,
 "nbformat_minor": 2
}
