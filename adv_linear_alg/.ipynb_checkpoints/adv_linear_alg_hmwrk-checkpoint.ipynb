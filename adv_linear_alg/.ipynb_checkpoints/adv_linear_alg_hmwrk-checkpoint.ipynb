{
 "cells": [
  {
   "cell_type": "code",
   "execution_count": 3,
   "metadata": {},
   "outputs": [],
   "source": [
    "import numpy as np\n",
    "import pylab as pl\n",
    "import warnings\n",
    "\n",
    "from matplotlib import pyplot as plt\n",
    "from scipy import linalg\n",
    "from sklearn.datasets import load_digits\n",
    "from sklearn.decomposition import TruncatedSVD\n",
    "from sklearn.ensemble import RandomForestClassifier\n",
    "warnings.filterwarnings(\"ignore\")"
   ]
  },
  {
   "cell_type": "markdown",
   "metadata": {},
   "source": [
    "## Уровень 0"
   ]
  },
  {
   "cell_type": "markdown",
   "metadata": {},
   "source": [
    "Придумайте матрицы, которые обладают следующими свойствами:  \n",
    "a) диагональная, ортогональная, но не единичная(!):  \n",
    "b) верхнетреугольная, ортогональная:  \n",
    "c) нижнетреугольная, ортогональная:  \n",
    "d) матрица, у которой определитель = 1, и все элементы не равны 0:  \n",
    "P.S. Во всех пунктах ответом должна быть ненулевая матрица размерности не менее 2!\n",
    "\n",
    "Найдите собственные значения и собственные вектора матриц:  \n",
    "m = np.array([[2, 2],  \n",
    "[1, 3]])  \n",
    "print(m)"
   ]
  },
  {
   "cell_type": "markdown",
   "metadata": {},
   "source": [
    "***Решение***"
   ]
  },
  {
   "cell_type": "code",
   "execution_count": 80,
   "metadata": {},
   "outputs": [
    {
     "name": "stdout",
     "output_type": "stream",
     "text": [
      "[1.38196601 3.61803399]\n",
      "[[-0.85065081  0.52573111]\n",
      " [ 0.52573111  0.85065081]]\n"
     ]
    }
   ],
   "source": [
    "m = np.array([[2, 2], [1, 3]])  \n",
    "zn, vec = linalg.eigh(m)\n",
    "print(zn)\n",
    "print(vec)"
   ]
  },
  {
   "cell_type": "code",
   "metadata": {},
   "outputs": [
    {
     "name": "stdout",
     "output_type": "stream",
     "text": [
      "[[-1.  0.  0.]\n",
      " [ 0. -1.  0.]\n",
      " [ 0.  0.  1.]]\n",
      "[[1. 0. 0.]\n",
      " [0. 1. 0.]\n",
      " [0. 0. 1.]]\n"
     ]
    }
   ],
   "source": [
    "#диагональная, ортогональная, но не единичная\n",
    "diag_orto = np.diag([np.cos(np.pi), -1, np.sin(1/2*np.pi)])\n",
    "print(diag_orto)\n",
    "\n",
    "at = diag_orto.transpose()\n",
    "print(diag_orto.dot(at))"
   ]
  },
  {
   "cell_type": "code",
   "execution_count": 40,
   "metadata": {},
   "outputs": [
    {
     "name": "stdout",
     "output_type": "stream",
     "text": [
      "[[-1.0000000e+00  0.0000000e+00]\n",
      " [-1.2246468e-16 -1.0000000e+00]]\n",
      "[[1.0000000e+00 1.2246468e-16]\n",
      " [1.2246468e-16 1.0000000e+00]]\n"
     ]
    }
   ],
   "source": [
    "#нижнетреугольная, ортогональная\n",
    "low_orto = np.tril([[np.cos(np.pi), 0], [-np.sin(np.pi), np.cos(np.pi)]])\n",
    "print(low_orto)\n",
    "\n",
    "at1 = low_orto.transpose()\n",
    "print(low_orto.dot(at1))"
   ]
  },
  {
   "cell_type": "code",
   "execution_count": 39,
   "metadata": {},
   "outputs": [
    {
     "name": "stdout",
     "output_type": "stream",
     "text": [
      "[[-1.0000000e+00 -1.2246468e-16]\n",
      " [ 0.0000000e+00 -1.0000000e+00]]\n",
      "[[1.0000000e+00 1.2246468e-16]\n",
      " [1.2246468e-16 1.0000000e+00]]\n"
     ]
    }
   ],
   "source": [
    "#верхнетреугольная, ортогональная\n",
    "up_orto = np.triu([[np.cos(np.pi), -np.sin(np.pi)], [0, np.cos(np.pi)]])\n",
    "print(up_orto)\n",
    "\n",
    "at2 = up_orto.transpose()\n",
    "print(up_orto.dot(at2))"
   ]
  },
  {
   "cell_type": "code",
   "execution_count": 64,
   "metadata": {},
   "outputs": [
    {
     "data": {
      "text/plain": [
       "1.0"
      ]
     },
     "execution_count": 64,
     "metadata": {},
     "output_type": "execute_result"
    }
   ],
   "source": [
    "#матрица, у которой определитель = 1, и все элементы не равны 0\n",
    "a = np.array([[1, 2, 1], [2, 3, 6], [1, 1, 4]])\n",
    "det = np.linalg.det(a)\n",
    "\n",
    "det"
   ]
  },
  {
   "cell_type": "markdown",
   "metadata": {},
   "source": [
    "## Уровень 1"
   ]
  },
  {
   "cell_type": "markdown",
   "metadata": {},
   "source": [
    "Найдите спектральное разложение матрицы:  \n",
    "m = np.array([[1, 2],  \n",
    "[2,3]])  "
   ]
  },
  {
   "cell_type": "code",
   "execution_count": 104,
   "metadata": {},
   "outputs": [
    {
     "name": "stdout",
     "output_type": "stream",
     "text": [
      "[[1 2]\n",
      " [2 3]]\n"
     ]
    }
   ],
   "source": [
    "m = np.array([[1, 2], \n",
    "              [2,3]])  \n",
    "print(m)"
   ]
  },
  {
   "cell_type": "code",
   "execution_count": 105,
   "metadata": {},
   "outputs": [],
   "source": [
    "v, w = np.linalg.eigh(m)"
   ]
  },
  {
   "cell_type": "code",
   "execution_count": 106,
   "metadata": {},
   "outputs": [
    {
     "data": {
      "text/plain": [
       "array([-0.23606798,  4.23606798])"
      ]
     },
     "execution_count": 106,
     "metadata": {},
     "output_type": "execute_result"
    }
   ],
   "source": [
    "#получили собственные значения\n",
    "v"
   ]
  },
  {
   "cell_type": "code",
   "execution_count": 107,
   "metadata": {},
   "outputs": [
    {
     "data": {
      "text/plain": [
       "array([[-0.85065081,  0.52573111],\n",
       "       [ 0.52573111,  0.85065081]])"
      ]
     },
     "execution_count": 107,
     "metadata": {},
     "output_type": "execute_result"
    }
   ],
   "source": [
    "#получили матрицу собственных векторов\n",
    "w"
   ]
  },
  {
   "cell_type": "code",
   "execution_count": 108,
   "metadata": {},
   "outputs": [
    {
     "data": {
      "text/plain": [
       "array([[-0.23606798,  0.        ],\n",
       "       [ 0.        ,  4.23606798]])"
      ]
     },
     "execution_count": 108,
     "metadata": {},
     "output_type": "execute_result"
    }
   ],
   "source": [
    "#диагональная матрица у которой на диагонали находятся собственные значения исходной матрицы\n",
    "D = np.diag(v)\n",
    "D"
   ]
  },
  {
   "cell_type": "code",
   "execution_count": 109,
   "metadata": {},
   "outputs": [
    {
     "data": {
      "text/plain": [
       "array([[-0.85065081,  0.52573111],\n",
       "       [ 0.52573111,  0.85065081]])"
      ]
     },
     "execution_count": 109,
     "metadata": {},
     "output_type": "execute_result"
    }
   ],
   "source": [
    "#две ортогональные относительно друг друга матрицы, состоящие из собственных векторов\n",
    "S = w.T\n",
    "S"
   ]
  },
  {
   "cell_type": "code",
   "execution_count": 110,
   "metadata": {},
   "outputs": [
    {
     "data": {
      "text/plain": [
       "array([[-0.85065081,  0.52573111],\n",
       "       [ 0.52573111,  0.85065081]])"
      ]
     },
     "execution_count": 110,
     "metadata": {},
     "output_type": "execute_result"
    }
   ],
   "source": [
    "#транспонированная форма матрицы S\n",
    "S.T"
   ]
  },
  {
   "cell_type": "code",
   "execution_count": 112,
   "metadata": {},
   "outputs": [
    {
     "data": {
      "text/plain": [
       "array([[ 1.0000000e+00, -1.2127222e-17],\n",
       "       [-1.2127222e-17,  1.0000000e+00]])"
      ]
     },
     "execution_count": 112,
     "metadata": {},
     "output_type": "execute_result"
    }
   ],
   "source": [
    "#проверяем ортогональны ли матрицы S транспонированная и S\n",
    "np.dot(S.T, S)"
   ]
  },
  {
   "cell_type": "code",
   "execution_count": 113,
   "metadata": {},
   "outputs": [
    {
     "data": {
      "text/plain": [
       "array([[1., 2.],\n",
       "       [2., 3.]])"
      ]
     },
     "execution_count": 113,
     "metadata": {},
     "output_type": "execute_result"
    }
   ],
   "source": [
    "#проверяем действительно ли матрицы S.T, S и D образуют спектральное разложение\n",
    "np.dot((np.dot(S.T, D)), S)"
   ]
  }
 ],
 "metadata": {
  "kernelspec": {
   "display_name": "Python 3",
   "language": "python",
   "name": "python3"
  },
  "language_info": {
   "codemirror_mode": {
    "name": "ipython",
    "version": 3
   },
   "file_extension": ".py",
   "mimetype": "text/x-python",
   "name": "python",
   "nbconvert_exporter": "python",
   "pygments_lexer": "ipython3",
   "version": "3.7.4"
  }
 },
 "nbformat": 4,
 "nbformat_minor": 2
}
