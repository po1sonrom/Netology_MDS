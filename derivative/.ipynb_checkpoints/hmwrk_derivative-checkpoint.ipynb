{
 "cells": [
  {
   "cell_type": "markdown",
   "metadata": {},
   "source": [
    "## Уровень 0"
   ]
  },
  {
   "cell_type": "markdown",
   "metadata": {},
   "source": [
    "посчитайте значение 1-ой и 2-ой производной фунции  \n",
    "f(x) = x^5 + 4sin(2x) + cos(3x+3) в точке x = 1"
   ]
  },
  {
   "cell_type": "code",
   "execution_count": 4,
   "metadata": {},
   "outputs": [],
   "source": [
    "import numpy as np\n",
    "import math\n",
    "from scipy.misc import derivative"
   ]
  },
  {
   "cell_type": "code",
   "execution_count": 44,
   "metadata": {},
   "outputs": [
    {
     "name": "stdout",
     "output_type": "stream",
     "text": [
      "Первая производная: 2.509071801881646\n",
      "Вторая производная: -3.19033688356285\n"
     ]
    }
   ],
   "source": [
    "def function(x):\n",
    "    y = x**5 + 4 * math.sin(2*x) + math.cos(3*x+3)\n",
    "    return y\n",
    "\n",
    "print(f'Первая производная: {derivative(function, 1.0, dx=1e-6, n = 1)}')\n",
    "print(f'Вторая производная: {derivative(function, 1.0, dx=1e-6, n = 2)}')"
   ]
  }
 ],
 "metadata": {
  "kernelspec": {
   "display_name": "Python 3",
   "language": "python",
   "name": "python3"
  },
  "language_info": {
   "codemirror_mode": {
    "name": "ipython",
    "version": 3
   },
   "file_extension": ".py",
   "mimetype": "text/x-python",
   "name": "python",
   "nbconvert_exporter": "python",
   "pygments_lexer": "ipython3",
   "version": "3.7.4"
  }
 },
 "nbformat": 4,
 "nbformat_minor": 2
}
